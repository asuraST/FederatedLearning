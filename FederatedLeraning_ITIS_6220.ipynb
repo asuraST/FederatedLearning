{
  "cells": [
    {
      "cell_type": "code",
      "execution_count": 2,
      "metadata": {
        "colab": {
          "base_uri": "https://localhost:8080/"
        },
        "id": "BXjPU4_KYxuW",
        "outputId": "9289ac6b-47e9-428f-fe4a-620ac266502b"
      },
      "outputs": [
        {
          "name": "stderr",
          "output_type": "stream",
          "text": [
            "<ipython-input-2-0bd282690d22>:52: VisibleDeprecationWarning: Creating an ndarray from ragged nested sequences (which is a list-or-tuple of lists-or-tuples-or ndarrays with different lengths or shapes) is deprecated. If you meant to do this, you must specify 'dtype=object' when creating the ndarray.\n",
            "  avg_weights = (0.4 * np.array(local_weights1) + 0.6 * np.array(local_weights2))\n"
          ]
        },
        {
          "name": "stdout",
          "output_type": "stream",
          "text": [
            "Round 1 - Global Model: Accuracy=0.3104\n",
            "Round 2 - Global Model: Accuracy=0.6560\n",
            "Round 3 - Global Model: Accuracy=0.6842\n",
            "Round 4 - Global Model: Accuracy=0.7118\n",
            "Round 5 - Global Model: Accuracy=0.7376\n",
            "Round 6 - Global Model: Accuracy=0.7460\n",
            "Round 7 - Global Model: Accuracy=0.7522\n",
            "Round 8 - Global Model: Accuracy=0.7519\n",
            "Round 9 - Global Model: Accuracy=0.7558\n",
            "Round 10 - Global Model: Accuracy=0.7585\n"
          ]
        }
      ],
      "source": [
        "import numpy as np\n",
        "from sklearn.datasets import make_classification\n",
        "from tensorflow.keras.models import Sequential\n",
        "from tensorflow.keras.layers import Dense, LSTM\n",
        "from tensorflow.keras.optimizers import SGD\n",
        "\n",
        "np.random.seed(42)\n",
        "\n",
        "# Generate simulated dataset...\n",
        "X, y = make_classification(n_samples=10000, n_features=10, n_classes=2, random_state=42)\n",
        "\n",
        "# Split the data into 3 parts\n",
        "split1 = int(len(X) / 3)\n",
        "split2 = int(2 * len(X) / 3)\n",
        "X_train1, y_train1 = X[:split1], y[:split1]\n",
        "X_train2, y_train2 = X[split1:split2], y[split1:split2]\n",
        "X_test, y_test = X[split2:], y[split2:]\n",
        "\n",
        "# Global LSTM RNN model\n",
        "global_model = Sequential()\n",
        "global_model.add(LSTM(32, input_shape=(X.shape[1], 1)))\n",
        "global_model.add(Dense(1, activation='sigmoid'))\n",
        "\n",
        "# Compile the global model\n",
        "global_model.compile(loss='binary_crossentropy', optimizer=SGD(learning_rate=0.01), metrics=['accuracy'])\n",
        "\n",
        "# Let's train the global model on all data\n",
        "global_model.fit(X.reshape(-1, X.shape[1], 1), y, epochs=10, batch_size=32, verbose=0)\n",
        "\n",
        "# Define the local LSTM RNN model1\n",
        "local_model1 = Sequential()\n",
        "local_model1.add(LSTM(32, input_shape=(X.shape[1], 1)))\n",
        "local_model1.add(Dense(1, activation='sigmoid'))\n",
        "\n",
        "# Compile the local model1\n",
        "local_model1.compile(loss='binary_crossentropy', optimizer=SGD(learning_rate=0.01), metrics=['accuracy'])\n",
        "\n",
        "# Define the local LSTM RNN model2\n",
        "local_model2 = Sequential()\n",
        "local_model2.add(LSTM(32, input_shape=(X.shape[1], 1)))\n",
        "local_model2.add(Dense(1, activation='sigmoid'))\n",
        "\n",
        "# Compile the local model2\n",
        "local_model2.compile(loss='binary_crossentropy', optimizer=SGD(learning_rate=0.01), metrics=['accuracy'])\n",
        "\n",
        "# Simulate local training and updating of global model\n",
        "num_rounds = 10\n",
        "for i in range(num_rounds):\n",
        "    # Get local model weights and send to global model\n",
        "    local_weights1 = local_model1.get_weights()\n",
        "    local_weights2 = local_model2.get_weights()\n",
        "    avg_weights = (0.4 * np.array(local_weights1) + 0.6 * np.array(local_weights2))## weighted aggregation\n",
        "\n",
        "    global_model.set_weights(avg_weights)\n",
        "\n",
        "    # Evaluate global model on test dataset\n",
        "    loss, acc = global_model.evaluate(X_test.reshape(-1, X_test.shape[1], 1), y_test, verbose=0)\n",
        "    print(f'Round {i+1} - Global Model: Accuracy={acc:.4f}')\n",
        "\n",
        "    # Train local model1 on local dataset\n",
        "    local_model1.fit(X_train1.reshape(-1, X_train1.shape[1], 1), y_train1, epochs=3, batch_size=32, verbose=0)\n",
        "\n",
        "    # Train local model2 on local dataset\n",
        "    local_model2.fit(X_train2.reshape(-1, X_train2.shape[1], 1), y_train2, epochs=3, batch_size=32, verbose=0)\n"
      ]
    },
    {
      "cell_type": "code",
      "execution_count": null,
      "metadata": {
        "id": "B1aoHtZnZdg1"
      },
      "outputs": [],
      "source": []
    }
  ],
  "metadata": {
    "colab": {
      "provenance": []
    },
    "kernelspec": {
      "display_name": "Python 3",
      "name": "python3"
    },
    "language_info": {
      "name": "python"
    }
  },
  "nbformat": 4,
  "nbformat_minor": 0
}
